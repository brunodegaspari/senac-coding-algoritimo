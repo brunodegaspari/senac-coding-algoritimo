{
 "cells": [
  {
   "cell_type": "code",
   "execution_count": 1,
   "metadata": {},
   "outputs": [
    {
     "name": "stdout",
     "output_type": "stream",
     "text": [
      "61\n"
     ]
    }
   ],
   "source": [
    "#práticas 06/04\n",
    "#operações com variáveis\n",
    "\n",
    "idade1 = 18\n",
    "idade2 = 43\n",
    "\n",
    "print(idade1 + idade2)\n"
   ]
  },
  {
   "cell_type": "code",
   "execution_count": 5,
   "metadata": {},
   "outputs": [
    {
     "name": "stdout",
     "output_type": "stream",
     "text": [
      "22\n"
     ]
    }
   ],
   "source": [
    "#guardando o resultado em outra variável\n",
    "\n",
    "idade1 = 10\n",
    "idade2 = 12\n",
    "\n",
    "somaIdades = idade1 + idade2\n",
    "print(somaIdades)"
   ]
  },
  {
   "cell_type": "code",
   "execution_count": 12,
   "metadata": {},
   "outputs": [
    {
     "name": "stdout",
     "output_type": "stream",
     "text": [
      "15\n",
      "450\n",
      "2\n"
     ]
    }
   ],
   "source": [
    "#subtração\n",
    "idade1 = 30\n",
    "idade2 = 15\n",
    "\n",
    "idadeSubtraida = idade1 - idade2\n",
    "print(idadeSubtraida)\n",
    "\n",
    "#multiplicação\n",
    "idadeMultiplicada = idade1 * idade2\n",
    "print(idadeMultiplicada)\n",
    "\n",
    "#divisão\n",
    "idadeDividida = idade1 // idade2\n",
    "print(idadeDividida)"
   ]
  },
  {
   "cell_type": "code",
   "execution_count": 17,
   "metadata": {},
   "outputs": [
    {
     "name": "stdout",
     "output_type": "stream",
     "text": [
      "63\n",
      "33\n",
      "100\n",
      "12.5\n"
     ]
    }
   ],
   "source": [
    "#operações com variáveis pt. ii\n",
    "\n",
    "#adição\n",
    "\n",
    "idade = 50\n",
    "\n",
    "print(idade + 13)\n",
    "\n",
    "#subtração\n",
    "\n",
    "print(idade - 17)\n",
    "\n",
    "#multiplicação\n",
    "\n",
    "print(idade * 2)\n",
    "\n",
    "#divisão\n",
    "\n",
    "print(idade / 4)"
   ]
  },
  {
   "cell_type": "code",
   "execution_count": 7,
   "metadata": {},
   "outputs": [
    {
     "name": "stdout",
     "output_type": "stream",
     "text": [
      "160\n",
      "180.0\n"
     ]
    },
    {
     "data": {
      "text/plain": [
       "120.0"
      ]
     },
     "execution_count": 7,
     "metadata": {},
     "output_type": "execute_result"
    }
   ],
   "source": [
    "#operações múltiplas\n",
    "idade1 = 60\n",
    "idade2 = 40\n",
    "\n",
    "print(2 * idade1 + idade2)\n",
    "\n",
    "print(2 * idade1 + 3 * idade2 / 2)\n",
    "\n",
    "(2 * idade1 + 3 * idade2) / 2"
   ]
  },
  {
   "cell_type": "code",
   "execution_count": 5,
   "metadata": {},
   "outputs": [
    {
     "data": {
      "text/plain": [
       "100"
      ]
     },
     "execution_count": 5,
     "metadata": {},
     "output_type": "execute_result"
    }
   ],
   "source": [
    "#exponenciação\n",
    "\n",
    "idade = 10\n",
    "\n",
    "idade ** 2"
   ]
  },
  {
   "cell_type": "code",
   "execution_count": 11,
   "metadata": {},
   "outputs": [
    {
     "name": "stdout",
     "output_type": "stream",
     "text": [
      "0\n",
      "0.5\n"
     ]
    }
   ],
   "source": [
    "#parte inteira de uma divisão\n",
    "\n",
    "idade1 = 50\n",
    "idade2 = 25\n",
    "\n",
    "print(idade2 // idade1)\n",
    "\n",
    "#é diferente de\n",
    "\n",
    "print(idade2 / idade1)"
   ]
  },
  {
   "cell_type": "code",
   "execution_count": 18,
   "metadata": {},
   "outputs": [
    {
     "data": {
      "text/plain": [
       "0"
      ]
     },
     "execution_count": 18,
     "metadata": {},
     "output_type": "execute_result"
    }
   ],
   "source": [
    "#resto de uma divisão\n",
    "\n",
    "idade1 = 30\n",
    "idade2 = 15\n",
    "\n",
    "idade1 % idade2"
   ]
  },
  {
   "cell_type": "code",
   "execution_count": 29,
   "metadata": {},
   "outputs": [
    {
     "name": "stdout",
     "output_type": "stream",
     "text": [
      "bruno degaspari\n"
     ]
    }
   ],
   "source": [
    "#unindo conteúdo de variáveis\n",
    "\n",
    "nome = \"bruno\"\n",
    "sobrenome = \"degaspari\"\n",
    "\n",
    "print(nome + \" \" + sobrenome)"
   ]
  },
  {
   "cell_type": "code",
   "execution_count": 40,
   "metadata": {},
   "outputs": [
    {
     "name": "stdout",
     "output_type": "stream",
     "text": [
      "oi,  bruno ,\n",
      " você tem:  18 anos.\n"
     ]
    }
   ],
   "source": [
    "#\"\\n\" é quebra de linha\n",
    "idade = 18\n",
    "nome = \"bruno\"\n",
    "sobrenome = \"degaspari\"\n",
    "\n",
    "print(\"oi, \" ,nome, \",\" \"\\n\", \"você tem: \", idade, \"anos.\")"
   ]
  },
  {
   "cell_type": "code",
   "execution_count": 42,
   "metadata": {},
   "outputs": [
    {
     "name": "stdout",
     "output_type": "stream",
     "text": [
      "bruno\n"
     ]
    }
   ],
   "source": [
    "#input: solicitações ao usuário\n",
    "\n",
    "nome = input(\"Digite seu nome: \")\n",
    "print(nome)"
   ]
  },
  {
   "cell_type": "code",
   "execution_count": null,
   "metadata": {},
   "outputs": [],
   "source": [
    "#quiz:\n",
    "# 1 - c ; 2 - ? ; 3 - c ; 4 - a ; 5 - a ; 6 - c."
   ]
  }
 ],
 "metadata": {
  "kernelspec": {
   "display_name": "Python 3",
   "language": "python",
   "name": "python3"
  },
  "language_info": {
   "codemirror_mode": {
    "name": "ipython",
    "version": 3
   },
   "file_extension": ".py",
   "mimetype": "text/x-python",
   "name": "python",
   "nbconvert_exporter": "python",
   "pygments_lexer": "ipython3",
   "version": "3.11.9"
  }
 },
 "nbformat": 4,
 "nbformat_minor": 2
}
