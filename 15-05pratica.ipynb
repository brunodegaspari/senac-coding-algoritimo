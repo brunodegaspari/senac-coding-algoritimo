{
 "cells": [
  {
   "cell_type": "code",
   "execution_count": 13,
   "metadata": {},
   "outputs": [
    {
     "name": "stdout",
     "output_type": "stream",
     "text": [
      "a letra é uma consoante\n"
     ]
    }
   ],
   "source": [
    "#1\n",
    "\n",
    "letraDigitada = input(\"digite uma letra:\")\n",
    "vogais = \"aeiouAEIOU\"\n",
    "\n",
    "if letraDigitada in vogais:\n",
    "    print(\"a letra é uma vogal\")\n",
    "else:\n",
    "    print(\"a letra é uma consoante\")\n"
   ]
  },
  {
   "cell_type": "code",
   "execution_count": 17,
   "metadata": {},
   "outputs": [
    {
     "name": "stdout",
     "output_type": "stream",
     "text": [
      "você deve comprar o produto B, o mais barato\n"
     ]
    }
   ],
   "source": [
    "#2\n",
    "\n",
    "produtoA = float(input(\"qual o preço do produto A?\"))\n",
    "produtoB = float(input(\"qual o preço do produto B?\"))\n",
    "produtoC = float(input(\"qual o preço do produto C?\"))\n",
    "\n",
    "if produtoA < produtoB and produtoA < produtoC:\n",
    "    print(\"você deve comprar o produto A, o mais barato\")\n",
    "elif produtoB < produtoA and produtoB < produtoC:\n",
    "    print(\"você deve comprar o produto B, o mais barato\")\n",
    "else:\n",
    "    print(\"você deve comprar o produto C, o mais barato\")"
   ]
  },
  {
   "cell_type": "code",
   "execution_count": 20,
   "metadata": {},
   "outputs": [
    {
     "name": "stdout",
     "output_type": "stream",
     "text": [
      "numeros na ordem decrescente: \n",
      "7.0\n",
      "5.0\n",
      "2.0\n"
     ]
    }
   ],
   "source": [
    "#3\n",
    "\n",
    "numero1 = float(input(\"digite o primeiro número: \"))\n",
    "numero2 = float(input(\"digite o segundo número: \"))\n",
    "numero3 = float(input(\"digite o terceiro número: \"))\n",
    "\n",
    "numerosDigitados = [numero1, numero2, numero3]\n",
    "\n",
    "numerosDigitados.sort(reverse=True)\n",
    "\n",
    "print(\"numeros na ordem decrescente: \")\n",
    "for numero in numerosDigitados:\n",
    "    print(numero)"
   ]
  },
  {
   "cell_type": "code",
   "execution_count": 29,
   "metadata": {},
   "outputs": [
    {
     "name": "stdout",
     "output_type": "stream",
     "text": [
      "valor inválido!\n"
     ]
    }
   ],
   "source": [
    "#4\n",
    "\n",
    "turnoAluno = input(\"qual turno você estuda? digite M para: Matutino; V para: Vespertino; e N para: Noturno. \")\n",
    "turnoManha = \"mM\"\n",
    "turnoTarde = \"vV\"\n",
    "turnoNoite = \"nN\"\n",
    "\n",
    "if turnoAluno in turnoManha:\n",
    "    print(\"bom dia!\")\n",
    "elif turnoAluno in turnoTarde:\n",
    "    print(\"boa tarde!\")\n",
    "elif turnoAluno in turnoNoite:\n",
    "    print(\"boa noite!\")\n",
    "else:\n",
    "    print(\"valor inválido!\")"
   ]
  },
  {
   "cell_type": "code",
   "execution_count": 31,
   "metadata": {},
   "outputs": [
    {
     "ename": "SyntaxError",
     "evalue": "Missing parentheses in call to 'print'. Did you mean print(...)? (2800765925.py, line 12)",
     "output_type": "error",
     "traceback": [
      "\u001b[1;36m  Cell \u001b[1;32mIn[31], line 12\u001b[1;36m\u001b[0m\n\u001b[1;33m    print domingo\u001b[0m\n\u001b[1;37m    ^\u001b[0m\n\u001b[1;31mSyntaxError\u001b[0m\u001b[1;31m:\u001b[0m Missing parentheses in call to 'print'. Did you mean print(...)?\n"
     ]
    }
   ],
   "source": [
    "#5\n",
    "\n",
    "domingo = \"1\"\n",
    "segunda = \"2\"\n",
    "terça = \"3\"\n",
    "quarta = \"4\"\n",
    "quinta = \"5\"\n",
    "sexta = \"6\"\n",
    "sábado = \"7\"\n",
    "\n",
    "diaPedido = int(input(\"qual o dia de hoje? digite um numero de 1-7\"))\n",
    "\n",
    "if diaPedido == \"1\":\n",
    "    print(domingo)\n",
    "elif diaPedido == \"2\":\n",
    "    print(segunda)\n",
    "elif diaPedido == \"3\":\n",
    "    print(terça)\n",
    "elif diaPedido == \"4\":\n",
    "    print(quarta)\n",
    "elif diaPedido == \"5\":\n",
    "    print(quinta)\n",
    "elif diaPedido == \"6\":\n",
    "    print(sexta)\n",
    "elif diaPedido == \"7\":\n",
    "    print(sábado)\n",
    "else:\n",
    "    print(\"valor invalido\")\n"
   ]
  },
  {
   "cell_type": "code",
   "execution_count": 34,
   "metadata": {},
   "outputs": [
    {
     "name": "stdout",
     "output_type": "stream",
     "text": [
      "o ano 2023 não é bissexto\n"
     ]
    }
   ],
   "source": [
    "#6\n",
    "\n",
    "anoDigitado = int(input(\"Digite um ano: \"))\n",
    "\n",
    "if (anoDigitado % 4 == 0 and anoDigitado % 100 != 0) or (anoDigitado % 400 == 0):\n",
    "    print(f\"o ano {anoDigitado} é bissexto\")\n",
    "else:\n",
    "    print(f\"o ano {anoDigitado} não é bissexto\")"
   ]
  },
  {
   "cell_type": "code",
   "execution_count": 47,
   "metadata": {},
   "outputs": [
    {
     "name": "stdout",
     "output_type": "stream",
     "text": [
      "reprovado\n"
     ]
    }
   ],
   "source": [
    "#7\n",
    "\n",
    "nota1 = float(input(\"digite sua primeira nota: \"))\n",
    "nota2 = float(input(\"digite sua segunda nota: \"))\n",
    "\n",
    "mediaA = nota1 + nota2 // 2\n",
    "mediaB = nota1 + nota2 // 2\n",
    "mediaC = nota1 + nota2 // 2\n",
    "mediaD = nota1 + nota2 // 2\n",
    "mediaE = nota1 + nota2 // 2\n",
    "\n",
    "if mediaA >= 9.0:\n",
    "    print(\"aprovado\")\n",
    "elif mediaA < 9.0:\n",
    "    print(\"reprovado\")\n",
    "\n",
    "if mediaB >= 7.5:\n",
    "    print(\"aprovado\")\n",
    "elif mediaB < 7.5:\n",
    "    print(\"reprovado\")\n",
    "\n",
    "if mediaC >= 6.0:\n",
    "    print(\"aprovado\")\n",
    "elif mediaC < 6.0:\n",
    "    print(\"reprovado\")\n",
    "\n",
    "else:\n",
    "    print(\"reprovado\")"
   ]
  },
  {
   "cell_type": "code",
   "execution_count": null,
   "metadata": {},
   "outputs": [],
   "source": [
    "#8\n",
    "\n",
    "numero1 = float(input(\"digite o primeiro número: \"))\n",
    "numero2 = float(input(\"digite o segundo número: \"))\n",
    "\n",
    "operacao = input(\"digite a operação(soma, subtração, multiplicação, divisão, exponenciação): \")\n",
    "\n",
    "if operacao == \"soma\":\n",
    "    resultado = numero1 + numero2\n",
    "elif operacao == \"subtração\":\n",
    "    resultado = numero1 - numero2\n",
    "elif operacao == \"multiplicação\":\n",
    "    resultado = numero1 * numero2\n",
    "elif operacao == \"divisão\":\n",
    "    resultado = numero1 / numero2\n",
    "elif operacao == \"exponenciação\":\n",
    "    resultado = numero1 ** numero2\n",
    "else:\n",
    "    print(\"Operação inválida\")\n",
    "    exit()\n",
    "\n",
    "tipoNumero = \"par\" if resultado % 2 == 0 else \"ímpar\"\n",
    "sinal = \"positivo\" if resultado > 0 else \"negativo\" if resultado < 0 else \"zero\"\n",
    "tipoValor = \"inteiro\" if resultado.is_integer() else \"decimal\"\n",
    "\n",
    "print(f\"o resultado da operação é {resultado}, que é um número {tipoNumero}, {sinal} e {tipoValor}.\")\n",
    "\n"
   ]
  },
  {
   "cell_type": "code",
   "execution_count": null,
   "metadata": {},
   "outputs": [],
   "source": [
    "#9\n",
    "\n",
    "idade = int(input(\"digite sua idade: \"))\n",
    "\n",
    "if 0 <= idade <= 150:\n",
    "    print(f\"sua idade é {idade}.\")\n",
    "else:\n",
    "    print(\"idade inválida\")\n"
   ]
  },
  {
   "cell_type": "code",
   "execution_count": null,
   "metadata": {},
   "outputs": [],
   "source": [
    "#10\n",
    "\n",
    "numeros = []\n",
    "\n",
    "for i in range(5):\n",
    "    numero = float(input(f\"digite o {i+1}º número: \"))\n",
    "    numeros.append(numero)\n",
    "\n",
    "soma = sum(numeros)\n",
    "media = soma / len(numeros)\n",
    "\n",
    "print(f\"a soma dos números é {soma}.\")\n",
    "print(f\"a média dos números é {media}.\")\n"
   ]
  },
  {
   "cell_type": "code",
   "execution_count": null,
   "metadata": {},
   "outputs": [],
   "source": [
    "#11\n",
    "\n",
    "temperatura1 = float(input(\"digite a temperatura 1: \"))\n",
    "temperatura2 = float(input(\"digite a temperatura 2: \"))\n",
    "temperatura3 = float(input(\"digite a temperatura 3: \"))\n",
    "temperatura4 = float(input(\"digite a temperatura 4: \"))\n",
    "temperatura5 = float(input(\"digite a temperatura 5: \"))\n",
    "\n",
    "menorTemperatura = min(temperatura1, temperatura2, temperatura3, temperatura4, temperatura5)\n",
    "\n",
    "maiorTemperatura = max(temperatura1, temperatura2, temperatura3, temperatura4, temperatura5)\n",
    "\n",
    "# Calculando a média das temperaturas\n",
    "mediaTemperaturas = (temperatura1 + temperatura2 + temperatura3 + temperatura4 + temperatura5) / 5\n",
    "\n",
    "# Exibindo os resultados\n",
    "print(\"menor temperatura:\", menorTemperatura , \"°C\")\n",
    "print(\"maior temperatura:\", maiorTemperatura , \"°C\")\n",
    "print(\"média das temperaturas:\", mediaTemperaturas , \"°C\")\n"
   ]
  },
  {
   "cell_type": "code",
   "execution_count": 51,
   "metadata": {},
   "outputs": [
    {
     "name": "stdout",
     "output_type": "stream",
     "text": [
      "voce ja pode se aposentar\n"
     ]
    }
   ],
   "source": [
    "#12 \n",
    "\n",
    "nome = input(\"digite seu nome: \")\n",
    "idade = int(input(\"digite sua idade: \"))\n",
    "\n",
    "if idade < 65:\n",
    "    print(\"voce so pode se aposentar com 65 anos\")\n",
    "else:\n",
    "    print(\"voce ja pode se aposentar\")"
   ]
  }
 ],
 "metadata": {
  "kernelspec": {
   "display_name": "Python 3",
   "language": "python",
   "name": "python3"
  },
  "language_info": {
   "codemirror_mode": {
    "name": "ipython",
    "version": 3
   },
   "file_extension": ".py",
   "mimetype": "text/x-python",
   "name": "python",
   "nbconvert_exporter": "python",
   "pygments_lexer": "ipython3",
   "version": "3.11.9"
  }
 },
 "nbformat": 4,
 "nbformat_minor": 2
}
