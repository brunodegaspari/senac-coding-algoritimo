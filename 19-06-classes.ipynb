{
 "cells": [
  {
   "cell_type": "code",
   "execution_count": 5,
   "metadata": {},
   "outputs": [
    {
     "name": "stdout",
     "output_type": "stream",
     "text": [
      "nome: Marlene \n",
      "Peso: 7.9 \n",
      "cor Caramelo\n",
      "auuuuuu baby i'm preying on you tonight hunt you down eat you alive\n",
      "nome: Cibele \n",
      "Peso: 4.5 \n",
      "cor Cinza\n",
      "miaaau\n"
     ]
    }
   ],
   "source": [
    "# 19-06 classes\n",
    "# sistema para petshop\n",
    "\n",
    "class Animal():\n",
    "\n",
    "    #construtor da classe\n",
    "\n",
    "    def __init__(self, name, weight, color):\n",
    "\n",
    "        #atributos\n",
    "\n",
    "        self.nome = name\n",
    "        self.peso = weight\n",
    "        self.cor = color\n",
    "    \n",
    "    def imprimirDados(self):\n",
    "        return(\"nome: %s \\nPeso: %s \\ncor %s\" %(self.nome, self.peso, self.cor))\n",
    "    \n",
    "    def latir(self, barulho):\n",
    "        print(barulho)\n",
    "\n",
    "#instanciando um objeto cachorro\n",
    "\n",
    "caozinho = Animal(\"Marlene\", 7.9, \"Caramelo\")\n",
    "gato = Animal(\"Cibele\", 4.5, \"Cinza\")\n",
    "\n",
    "#chamando o método do objeto criado\n",
    "\n",
    "print(caozinho.imprimirDados())\n",
    "caozinho.latir(\"auuuuuu baby i'm preying on you tonight hunt you down eat you alive\")\n",
    "\n",
    "print(gato.imprimirDados())\n",
    "gato.latir(\"miaaau\")"
   ]
  },
  {
   "cell_type": "code",
   "execution_count": 8,
   "metadata": {},
   "outputs": [],
   "source": [
    "#criando uma classe de livro\n",
    "\n",
    "class Livro():\n",
    "\n",
    "    #esse método vai inicializar cada objeto criado a partir desta classe\n",
    "    #o nome deste método é __init__\n",
    "    #(self) é uma referencia a cada atributo de um objeto criado a partir desta\n",
    "    def __init__(self):\n",
    "\n",
    "        #atributos de cada objeto criado a partir desta classe.\n",
    "        #o self indica que estes são atributos dos objetos\n",
    "        self.titulo = \"Festa\"\n",
    "        self.autor = \"Vitor Brauer\"\n",
    "        self.isbn = 99888888\n",
    "\n",
    "    #métodos sao funções, que recebem como parâmetro atributos do objeto criado\n",
    "    def imprime(self):\n",
    "        print(\"foi criado o livro %s de %s e ISBN %d\" %(self.titulo, self.autor, self.isbn))"
   ]
  },
  {
   "cell_type": "code",
   "execution_count": 9,
   "metadata": {},
   "outputs": [],
   "source": [
    "#criando classe livro com parametros no metodo construtor\n",
    "\n",
    "class Livro():\n",
    "    def __init__(self, titulo, autor, isbn):\n",
    "        self.titulo = titulo\n",
    "        self.autor = autor\n",
    "        self.isbn = isbn\n",
    "        print(\"construtor chamado para criar um objeto desta classe\")\n",
    "\n",
    "    def imprime(self, titulo, autor, isbn):\n",
    "        print(\"este é o livro %s de %s e ISBN %d\" %(titulo, autor, isbn))"
   ]
  },
  {
   "cell_type": "code",
   "execution_count": null,
   "metadata": {},
   "outputs": [],
   "source": [
    "#criando objeto Livro2 que é uma instância de classe Livro\n",
    "Livro2 = Livro(\"Festa\", \"Vitor Brauer\", \"99888888\")"
   ]
  }
 ],
 "metadata": {
  "kernelspec": {
   "display_name": "Python 3",
   "language": "python",
   "name": "python3"
  },
  "language_info": {
   "codemirror_mode": {
    "name": "ipython",
    "version": 3
   },
   "file_extension": ".py",
   "mimetype": "text/x-python",
   "name": "python",
   "nbconvert_exporter": "python",
   "pygments_lexer": "ipython3",
   "version": "3.11.4"
  }
 },
 "nbformat": 4,
 "nbformat_minor": 2
}
