{
 "cells": [
  {
   "cell_type": "code",
   "execution_count": 1,
   "metadata": {},
   "outputs": [
    {
     "name": "stdout",
     "output_type": "stream",
     "text": [
      "estamos no elemento  1\n",
      "estamos no elemento  2\n",
      "estamos no elemento  3\n",
      "estamos no elemento  4\n",
      "estamos no elemento  5\n",
      "estamos no elemento  6\n"
     ]
    }
   ],
   "source": [
    "for elementoVar in [1, 2, 3, 4, 5, 6]:\n",
    "    print(\"estamos no elemento \", elementoVar)\n"
   ]
  },
  {
   "cell_type": "code",
   "execution_count": 2,
   "metadata": {},
   "outputs": [
    {
     "name": "stdout",
     "output_type": "stream",
     "text": [
      "estamos no elemento  S\n",
      "estamos no elemento  T\n",
      "estamos no elemento  R\n",
      "estamos no elemento  I\n",
      "estamos no elemento  N\n",
      "estamos no elemento  G\n"
     ]
    }
   ],
   "source": [
    "for elementoVar in \"STRING\":\n",
    "    print(\"estamos no elemento \", elementoVar)"
   ]
  },
  {
   "cell_type": "code",
   "execution_count": 7,
   "metadata": {},
   "outputs": [
    {
     "name": "stdout",
     "output_type": "stream",
     "text": [
      "estamos no elemento  0\n",
      "estamos no elemento  1\n",
      "estamos no elemento  2\n",
      "estamos no elemento  3\n",
      "estamos no elemento  4\n",
      "estamos no elemento  5\n"
     ]
    }
   ],
   "source": [
    "for elementoVar in range(len(\"STRING\")):\n",
    "    print(\"estamos no elemento \", elementoVar)"
   ]
  },
  {
   "cell_type": "code",
   "execution_count": 14,
   "metadata": {},
   "outputs": [],
   "source": [
    "produto = 0 ##inicialização\n",
    "while produto < 4:\n",
    "    p = str(input(\"digite o nome do produto: \"))\n",
    "    v = int(input(\"digite o valor do produto: \"))\n",
    "    produto += 1"
   ]
  },
  {
   "cell_type": "code",
   "execution_count": 3,
   "metadata": {},
   "outputs": [
    {
     "name": "stdout",
     "output_type": "stream",
     "text": [
      "estamos no elemento  0\n",
      "estamos no elemento  1\n",
      "estamos no elemento  2\n",
      "estamos no elemento  3\n",
      "estamos no elemento  4\n",
      "estamos no elemento  5\n",
      "estamos no elemento  6\n"
     ]
    }
   ],
   "source": [
    "elemento = 0\n",
    "while elemento <= len([1, 2, 3, 4, 5, 6]):\n",
    "    print(\"estamos no elemento \", elemento)\n",
    "    elemento += 1\n"
   ]
  },
  {
   "cell_type": "code",
   "execution_count": 1,
   "metadata": {},
   "outputs": [
    {
     "name": "stdout",
     "output_type": "stream",
     "text": [
      "estamos no elemento  S\n",
      "estamos no elemento  T\n",
      "estamos no elemento  R\n",
      "estamos no elemento  I\n",
      "estamos no elemento  N\n",
      "estamos no elemento  G\n"
     ]
    }
   ],
   "source": [
    "s = \"STRING\"\n",
    "indice = 0\n",
    "\n",
    "while indice in range (len (s)):\n",
    "    print(\"estamos no elemento \", s[indice])\n",
    "    indice +=1"
   ]
  },
  {
   "cell_type": "code",
   "execution_count": 2,
   "metadata": {},
   "outputs": [
    {
     "name": "stdout",
     "output_type": "stream",
     "text": [
      "0 t\n",
      "1 r\n",
      "2 a\n",
      "3 n\n",
      "4 q\n",
      "5 u\n",
      "6 i\n",
      "7 l\n",
      "8 o\n"
     ]
    }
   ],
   "source": [
    "palavra = \"tranquilo\"\n",
    "for indice, letra in enumerate(palavra):\n",
    "    print(indice, letra)"
   ]
  },
  {
   "cell_type": "code",
   "execution_count": 5,
   "metadata": {},
   "outputs": [
    {
     "name": "stdout",
     "output_type": "stream",
     "text": [
      "tipo:  <class 'enumerate'>\n",
      "[(0, 'eat'), (1, 'sleep'), (2, 'repeat')]\n"
     ]
    }
   ],
   "source": [
    "lista = [\"eat\", \"sleep\", \"repeat\"]\n",
    "palavra = \"geek\"\n",
    "\n",
    "obj1 = enumerate(lista)\n",
    "obj2 = enumerate(palavra)\n",
    "\n",
    "print(\"tipo: \", type(obj1))\n",
    "print(list(enumerate(lista)))\n"
   ]
  },
  {
   "cell_type": "code",
   "execution_count": 10,
   "metadata": {},
   "outputs": [
    {
     "name": "stdout",
     "output_type": "stream",
     "text": [
      "oi\n",
      "oi\n",
      "oi\n"
     ]
    }
   ],
   "source": [
    "s = [1, 2, 3]\n",
    "for ch in s:\n",
    "    print(\"oi\")"
   ]
  },
  {
   "cell_type": "code",
   "execution_count": 11,
   "metadata": {},
   "outputs": [
    {
     "name": "stdout",
     "output_type": "stream",
     "text": [
      "oi\n",
      "oi\n",
      "oi\n",
      "oi\n",
      "oi\n"
     ]
    }
   ],
   "source": [
    "s = \"viva o python\"\n",
    "for ch in s[3:8]:\n",
    "    print(\"oi\")"
   ]
  },
  {
   "cell_type": "code",
   "execution_count": 25,
   "metadata": {},
   "outputs": [
    {
     "name": "stdout",
     "output_type": "stream",
     "text": [
      "a quantidade de pares digitados foi:  5\n",
      "a quantidade de ímpares digitados foi:  5\n"
     ]
    }
   ],
   "source": [
    "#DESAFIO 08/05\n",
    "##1. faça um programa que peça 10 números inteiros, cacule e mostre a quantidade de números pares e a quantidade de numeros impares.\n",
    "par = 0\n",
    "impar = 0\n",
    "numerosPedidos = 0\n",
    "\n",
    "while numerosPedidos < 10:\n",
    "    numero = int(input(\"digite um número inteiro (10): \"))\n",
    "\n",
    "    if numero % 2 == 0:\n",
    "        par += 1\n",
    "    else:\n",
    "        impar += 1\n",
    "    numerosPedidos += 1\n",
    "\n",
    "print(\"a quantidade de pares digitados foi: \", par)\n",
    "print(\"a quantidade de ímpares digitados foi: \", impar)\n",
    "\n"
   ]
  }
 ],
 "metadata": {
  "kernelspec": {
   "display_name": "Python 3",
   "language": "python",
   "name": "python3"
  },
  "language_info": {
   "codemirror_mode": {
    "name": "ipython",
    "version": 3
   },
   "file_extension": ".py",
   "mimetype": "text/x-python",
   "name": "python",
   "nbconvert_exporter": "python",
   "pygments_lexer": "ipython3",
   "version": "3.11.4"
  }
 },
 "nbformat": 4,
 "nbformat_minor": 2
}
