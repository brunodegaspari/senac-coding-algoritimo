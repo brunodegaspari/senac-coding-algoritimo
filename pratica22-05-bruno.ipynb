{
 "cells": [
  {
   "cell_type": "code",
   "execution_count": 21,
   "metadata": {},
   "outputs": [
    {
     "name": "stdout",
     "output_type": "stream",
     "text": [
      "5 patinhos foram passear além da montanhas para brincar a mamae gritou qua qua qua qua mas só 4 voltaram de la\n",
      "4 patinhos foram passear além da montanhas para brincar a mamae gritou qua qua qua qua mas só 3 voltaram de la\n",
      "3 patinhos foram passear além da montanhas para brincar a mamae gritou qua qua qua qua mas só 2 voltaram de la\n",
      "2 patinhos foram passear além da montanhas para brincar a mamae gritou qua qua qua qua mas só 1 voltaram de la\n",
      "1 patinho foi passear além da montanhas para brincar a mamae gritou qua qua qua qua mas só 0 patinho voltou de la\n"
     ]
    }
   ],
   "source": [
    "#prática patinhos da xuxa\n",
    "\n",
    "patinhos = 5\n",
    "\n",
    "while patinhos >= 1:\n",
    "    if patinhos == 1:\n",
    "        print(patinhos , \"patinho foi passear além da montanhas para brincar a mamae gritou qua qua qua qua mas só\" , patinhos - 1 , \"patinho voltou de la\")\n",
    "    else:\n",
    "        print(patinhos , \"patinhos foram passear além da montanhas para brincar a mamae gritou qua qua qua qua mas só\" , patinhos - 1 , \"voltaram de la\")\n",
    "    patinhos -= 1"
   ]
  },
  {
   "cell_type": "code",
   "execution_count": 2,
   "metadata": {},
   "outputs": [
    {
     "name": "stdout",
     "output_type": "stream",
     "text": [
      "1 elefante incomoda muita gente\n",
      "2 elefantes incomodam incomodam  muito mais\n",
      "3 elefantes incomodam muita gente\n",
      "4 elefantes incomodam incomodam incomodam incomodam  muito mais\n",
      "5 elefantes incomodam muita gente\n",
      "6 elefantes incomodam incomodam incomodam incomodam incomodam incomodam  muito mais\n",
      "7 elefantes incomodam muita gente\n",
      "8 elefantes incomodam incomodam incomodam incomodam incomodam incomodam incomodam incomodam  muito mais\n",
      "9 elefantes incomodam muita gente\n",
      "10 elefantes incomodam incomodam incomodam incomodam incomodam incomodam incomodam incomodam incomodam incomodam  muito mais\n"
     ]
    }
   ],
   "source": [
    "#pratica dos elefante\n",
    "\n",
    "elefante = 1\n",
    "while elefante < 11:\n",
    "    elefante + 1\n",
    "    if elefante == 1:\n",
    "        print(elefante , \"elefante incomoda muita gente\")\n",
    "    elif elefante % 2 == 0:\n",
    "        print(elefante , \"elefantes\" , \"incomodam \" * elefante , \"muito mais\")\n",
    "    else:\n",
    "        print(elefante , \"elefantes incomodam muita gente\")\n",
    "    elefante += 1"
   ]
  },
  {
   "cell_type": "code",
   "execution_count": 1,
   "metadata": {},
   "outputs": [
    {
     "name": "stdout",
     "output_type": "stream",
     "text": [
      "10 elefantes incomodam pouca gente\n",
      "9 elefantes incomodam incomodam incomodam incomodam incomodam incomodam incomodam incomodam incomodam  muito menos\n",
      "8 elefantes incomodam pouca gente\n",
      "7 elefantes incomodam incomodam incomodam incomodam incomodam incomodam incomodam  muito menos\n",
      "6 elefantes incomodam pouca gente\n",
      "5 elefantes incomodam incomodam incomodam incomodam incomodam  muito menos\n",
      "4 elefantes incomodam pouca gente\n",
      "3 elefantes incomodam incomodam incomodam  muito menos\n",
      "2 elefantes incomodam pouca gente\n",
      "1 elefante incomoda pouca gente\n"
     ]
    }
   ],
   "source": [
    "#elefante ao contrario\n",
    "\n",
    "elefante = 10\n",
    "while elefante > 0:\n",
    "    elefante - 1\n",
    "    if elefante == 1:\n",
    "        print(elefante , \"elefante incomoda pouca gente\")\n",
    "    elif elefante % 2 != 0:\n",
    "        print(elefante , \"elefantes\" , \"incomodam \" * elefante , \"muito menos\")\n",
    "    else:\n",
    "        print(elefante , \"elefantes incomodam pouca gente\")\n",
    "    elefante -= 1"
   ]
  },
  {
   "cell_type": "code",
   "execution_count": 12,
   "metadata": {},
   "outputs": [
    {
     "name": "stdout",
     "output_type": "stream",
     "text": [
      "mariana conta 1 , mariana conta 1 é 1 é 1\n",
      "mariana conta 2 , mariana conta 2 é 2 é 2\n",
      "mariana conta 3 , mariana conta 3 é 3 é 3\n",
      "mariana conta 4 , mariana conta 4 é 4 é 4\n",
      "mariana conta 5 , mariana conta 5 é 5 é 5\n",
      "mariana conta 6 , mariana conta 6 é 6 é 6\n",
      "mariana conta 7 , mariana conta 7 é 7 é 7\n",
      "mariana conta 8 , mariana conta 8 é 8 é 8\n",
      "mariana conta 9 , mariana conta 9 é 9 é 9\n",
      "mariana conta 10 , mariana conta 10 é 10 é 10\n"
     ]
    }
   ],
   "source": [
    "#mariana conta q só\n",
    "\n",
    "contaMariana = 1\n",
    "cM1 = 1\n",
    "cM2 = 2\n",
    "cM3 = 3\n",
    "cM4 = 4\n",
    "cM5 = 5\n",
    "cM6 = 6\n",
    "cM7 = 7\n",
    "cM8 = 8\n",
    "cM9 = 9\n",
    "cM10 = 10\n",
    "\n",
    "while contaMariana < 11:\n",
    "    print(\"mariana conta\" , contaMariana , \", mariana conta\" , contaMariana , \"é\" , contaMariana , \"é\" , contaMariana)\n",
    "    contaMariana += 1\n",
    "    "
   ]
  }
 ],
 "metadata": {
  "kernelspec": {
   "display_name": "Python 3",
   "language": "python",
   "name": "python3"
  },
  "language_info": {
   "codemirror_mode": {
    "name": "ipython",
    "version": 3
   },
   "file_extension": ".py",
   "mimetype": "text/x-python",
   "name": "python",
   "nbconvert_exporter": "python",
   "pygments_lexer": "ipython3",
   "version": "3.11.9"
  }
 },
 "nbformat": 4,
 "nbformat_minor": 2
}
