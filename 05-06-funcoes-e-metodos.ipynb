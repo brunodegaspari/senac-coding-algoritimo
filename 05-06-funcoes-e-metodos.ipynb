{
 "cells": [
  {
   "cell_type": "code",
   "execution_count": 5,
   "metadata": {},
   "outputs": [
    {
     "name": "stdout",
     "output_type": "stream",
     "text": [
      "número  0\n",
      "número  1\n",
      "número  2\n",
      "número  3\n",
      "número  4\n"
     ]
    }
   ],
   "source": [
    "#aula 05/06\n",
    "#functions and methods\n",
    "\n",
    "def funcaoLeitura():\n",
    "    for num in range(5):\n",
    "        print(\"número \", num)\n",
    "\n",
    "funcaoLeitura()"
   ]
  },
  {
   "cell_type": "code",
   "execution_count": 4,
   "metadata": {},
   "outputs": [
    {
     "name": "stdout",
     "output_type": "stream",
     "text": [
      "o primeiro número é:  -5\n",
      "o segundo número é:  10\n",
      "A soma do número é:  5\n"
     ]
    }
   ],
   "source": [
    "#função pra somar dois numeros\n",
    "\n",
    "def addNum(n1 , n2):\n",
    "    print(\"o primeiro número é: \", n1)\n",
    "    print(\"o segundo número é: \", n2)\n",
    "    print(\"A soma do número é: \", n1 + n2)\n",
    "\n",
    "addNum(-5, 10)"
   ]
  },
  {
   "cell_type": "code",
   "execution_count": 14,
   "metadata": {},
   "outputs": [
    {
     "name": "stdout",
     "output_type": "stream",
     "text": [
      "variavel da função multiplica:  14\n",
      "14\n"
     ]
    }
   ],
   "source": [
    "#variaveis globais e locais\n",
    "\n",
    "varGlobal = 10\n",
    "def multi(x, y):\n",
    "    varLocal = (x * y) #essa variavel é local pq ela so existe dentro da função\n",
    "    print(\"variavel da função multiplica: \", varLocal)\n",
    "\n",
    "multi(2, 7)\n",
    "print(varGlobal)"
   ]
  },
  {
   "cell_type": "code",
   "execution_count": 16,
   "metadata": {},
   "outputs": [
    {
     "data": {
      "text/plain": [
       "['jorge', 'é', 'da', 'capadócia']"
      ]
     },
     "execution_count": 16,
     "metadata": {},
     "output_type": "execute_result"
    }
   ],
   "source": [
    "def separarTexto(texto):\n",
    "    return texto.split()\n",
    "\n",
    "separarTexto(\"jorge é da capadócia\")"
   ]
  },
  {
   "cell_type": "code",
   "execution_count": 13,
   "metadata": {},
   "outputs": [
    {
     "name": "stdout",
     "output_type": "stream",
     "text": [
      "parametro 0 a\n",
      "parametro 1 e\n",
      "parametro 2 i\n",
      "parametro 3 o\n",
      "parametro 4 u\n"
     ]
    }
   ],
   "source": [
    "def variosParam(*param):\n",
    "    for n, item in enumerate(param):\n",
    "        print(\"parametro\", n, item)\n",
    "    return\n",
    "\n",
    "variosParam(\"a\" , \"e\" , \"i\" , \"o\" , \"u\") "
   ]
  },
  {
   "cell_type": "code",
   "execution_count": 59,
   "metadata": {},
   "outputs": [
    {
     "name": "stdout",
     "output_type": "stream",
     "text": [
      "+=================+\n",
      "| menu de operações\n",
      "| 1 - soma         \n",
      "| 2 - subtrair     \n",
      "| 3 - multiplicar  \n",
      "| 4 - dividir      \n",
      "| 0 - sair         \n",
      "+=================+\n",
      "operação inválida, selecione um número de 1 à 4 ou saia da calculadora\n",
      "o resultado da soma é:  3\n",
      "+=================+\n",
      "| menu de operações\n",
      "| 1 - soma         \n",
      "| 2 - subtrair     \n",
      "| 3 - multiplicar  \n",
      "| 4 - dividir      \n",
      "| 0 - sair         \n",
      "+=================+\n",
      "saindo da calculadora...\n"
     ]
    }
   ],
   "source": [
    "#calculadora\n",
    "def soma(n1, n2):\n",
    "    return n1+n2\n",
    "\n",
    "def subtrai(n1, n2):\n",
    "    return n1-n2\n",
    "\n",
    "def multi(n1, n2):\n",
    "    return n1*n2\n",
    "\n",
    "def divisao(n1, n2):\n",
    "    return n1/n2\n",
    "\n",
    "while True:\n",
    "    print(\"+=================+\")\n",
    "    print(\"| menu de operações\")\n",
    "    print(\"| 1 - soma         \")\n",
    "    print(\"| 2 - subtrair     \")\n",
    "    print(\"| 3 - multiplicar  \")\n",
    "    print(\"| 4 - dividir      \")\n",
    "    print(\"| 0 - sair         \")\n",
    "    print(\"+=================+\")\n",
    "\n",
    "    op = int(input())\n",
    "    while op not in [0, 1, 2, 3, 4]:\n",
    "        print(\"operação inválida, selecione um número de 1 à 4 ou saia da calculadora\")\n",
    "        op = int(input())\n",
    "    \n",
    "    if op==0:\n",
    "        print(\"saindo da calculadora...\")\n",
    "        break\n",
    "    \n",
    "    n1 = int(input(\"primeiro numero: \"))\n",
    "    n2 = int(input(\"segundo numero: \"))\n",
    "\n",
    "    if op==1:\n",
    "        print(\"o resultado da soma é: \", soma(n1, n2))\n",
    "    elif op==2:\n",
    "        print(\"o resultado da subtração é: \", subtrai(n1, n2))\n",
    "    elif op==3:\n",
    "        print(\"o resultado da multiplicação é: \", multi(n1, n2))\n",
    "    elif op==4:\n",
    "        print(\"o resultado da divisão é: \", divisao(n1, n2))\n"
   ]
  }
 ],
 "metadata": {
  "kernelspec": {
   "display_name": "Python 3",
   "language": "python",
   "name": "python3"
  },
  "language_info": {
   "codemirror_mode": {
    "name": "ipython",
    "version": 3
   },
   "file_extension": ".py",
   "mimetype": "text/x-python",
   "name": "python",
   "nbconvert_exporter": "python",
   "pygments_lexer": "ipython3",
   "version": "3.11.4"
  }
 },
 "nbformat": 4,
 "nbformat_minor": 2
}
