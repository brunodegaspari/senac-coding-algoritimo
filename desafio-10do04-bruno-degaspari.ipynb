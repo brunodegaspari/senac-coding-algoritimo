{
 "cells": [
  {
   "cell_type": "code",
   "execution_count": 8,
   "metadata": {},
   "outputs": [
    {
     "name": "stdout",
     "output_type": "stream",
     "text": [
      "False\n",
      "True\n",
      "False\n",
      "True\n",
      "False\n"
     ]
    }
   ],
   "source": [
    "valor1 = input(\"digite um numero inteiro\")\n",
    "valor2 = input(\"digite outro numero inteiro\")\n",
    "\n",
    "print (valor1 == valor2)\n",
    "print (valor1 > valor2)\n",
    "print (valor1 < valor2)\n",
    "print (valor1 >= valor2)\n",
    "print (valor1 <= valor2)\n"
   ]
  },
  {
   "cell_type": "code",
   "execution_count": null,
   "metadata": {},
   "outputs": [
    {
     "name": "stdout",
     "output_type": "stream",
     "text": [
      "True\n"
     ]
    }
   ],
   "source": [
    "numero = 20\n",
    "print(numero > 0 and numero <= 20)"
   ]
  },
  {
   "cell_type": "code",
   "execution_count": 26,
   "metadata": {},
   "outputs": [
    {
     "name": "stdout",
     "output_type": "stream",
     "text": [
      "8\n",
      "par\n"
     ]
    }
   ],
   "source": [
    "#condições if else\n",
    "#caso a divisão do número digitado por 2 iguale a 0, ele será par, caso contrario, ímpar\n",
    "\n",
    "numeroUsuario = int(input(\"Digite um numero\"))\n",
    "print (numeroUsuario)\n",
    "\n",
    "if (numeroUsuario % 2 == 0):\n",
    "    print (\"par\")\n",
    "else: \n",
    "    print(\"ímpar\")\n"
   ]
  },
  {
   "cell_type": "code",
   "execution_count": null,
   "metadata": {},
   "outputs": [],
   "source": [
    "#desvio condicional\n",
    "#se digitarmos algum dos dois cupons, teremos desconto, caso contrario, não haverá desconto\n",
    "cupom = input(\"Digite o cupom: \")\n",
    "\n",
    "if (cupom == \"aula1\" or cupom == \"aula2\"):\n",
    "    print(\"você obteve 20% de desconto\")\n",
    "else:\n",
    "    print(\"este cupom não foi encontrado, nenhum desconto adquirido\")"
   ]
  }
 ],
 "metadata": {
  "kernelspec": {
   "display_name": "Python 3",
   "language": "python",
   "name": "python3"
  },
  "language_info": {
   "codemirror_mode": {
    "name": "ipython",
    "version": 3
   },
   "file_extension": ".py",
   "mimetype": "text/x-python",
   "name": "python",
   "nbconvert_exporter": "python",
   "pygments_lexer": "ipython3",
   "version": "3.11.9"
  }
 },
 "nbformat": 4,
 "nbformat_minor": 2
}
