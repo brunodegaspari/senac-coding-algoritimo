{
 "cells": [
  {
   "cell_type": "code",
   "execution_count": 29,
   "metadata": {},
   "outputs": [
    {
     "name": "stdout",
     "output_type": "stream",
     "text": [
      "45.5\n",
      "52.0\n"
     ]
    }
   ],
   "source": [
    "#1\n",
    "\n",
    "numeroInteiro1 = int(input(\"digite um número inteiro: \"))\n",
    "numeroInteiro2 = int(input(\"digite outro número inteiro: \"))\n",
    "numeroReal = float(input(\"digite um número real: \"))\n",
    "\n",
    "resultadoA = (2 * numeroInteiro1) + (numeroInteiro2 / 2)\n",
    "print(resultadoA)\n",
    "\n",
    "resultadoB = 3 * numeroInteiro1 + numeroReal ** 3\n",
    "print(resultadoB)"
   ]
  },
  {
   "cell_type": "code",
   "execution_count": 30,
   "metadata": {},
   "outputs": [
    {
     "name": "stdout",
     "output_type": "stream",
     "text": [
      "o maior valor foi:  50\n"
     ]
    }
   ],
   "source": [
    "#2\n",
    "\n",
    "numero1 = int(input(\"digita um número ae: \"))\n",
    "numero2 = int(input(\"digita outro numero ae: \"))\n",
    "\n",
    "if numero1 > numero2:\n",
    "    print(\"o maior valor foi: \" , numero1)\n",
    "else:\n",
    "    print(\"o maior valor foi: \" , numero2)"
   ]
  },
  {
   "cell_type": "code",
   "execution_count": 31,
   "metadata": {},
   "outputs": [
    {
     "name": "stdout",
     "output_type": "stream",
     "text": [
      "o teu valor eh positivo parabens\n"
     ]
    }
   ],
   "source": [
    "#3\n",
    "\n",
    "valorPedido = int(input(\"digite um valor ai va: \"))\n",
    "\n",
    "if valorPedido > 0:\n",
    "    print(\"o teu valor eh positivo parabens\")\n",
    "else:\n",
    "    print(\"vish teu valor eh negativo\")"
   ]
  },
  {
   "cell_type": "code",
   "execution_count": 41,
   "metadata": {},
   "outputs": [
    {
     "name": "stdout",
     "output_type": "stream",
     "text": [
      "ih, fosse reprovade\n"
     ]
    }
   ],
   "source": [
    "#4\n",
    "\n",
    "nota1 = float(input(\"digita tua primeira nota: \"))\n",
    "nota2 = float(input(\"digita tua segunda nota: \"))\n",
    "\n",
    "mediaFinal = (nota1 + nota2) / 2\n",
    "\n",
    "if mediaFinal > 7:\n",
    "    print(\"parabéns, fosse aprovade\")\n",
    "else:\n",
    "    print(\"ih, fosse reprovade\")"
   ]
  },
  {
   "cell_type": "code",
   "execution_count": 25,
   "metadata": {},
   "outputs": [
    {
     "name": "stdout",
     "output_type": "stream",
     "text": [
      "o maior valor é: 66\n"
     ]
    }
   ],
   "source": [
    "#5\n",
    "\n",
    "valor1 = 3\n",
    "valor2 = 30\n",
    "valor3 = 66\n",
    "\n",
    "if valor1 >= valor2 and valor1 >= valor3:\n",
    "    print(\"o maior valor é: \" , valor1)\n",
    "elif valor2 >= valor1 and valor2 >= valor3:\n",
    "    print(\"o maior valor é:\" , valor2)\n",
    "else:\n",
    "    print(\"o maior valor é:\" , valor3)"
   ]
  }
 ],
 "metadata": {
  "kernelspec": {
   "display_name": "Python 3",
   "language": "python",
   "name": "python3"
  },
  "language_info": {
   "codemirror_mode": {
    "name": "ipython",
    "version": 3
   },
   "file_extension": ".py",
   "mimetype": "text/x-python",
   "name": "python",
   "nbconvert_exporter": "python",
   "pygments_lexer": "ipython3",
   "version": "3.11.9"
  }
 },
 "nbformat": 4,
 "nbformat_minor": 2
}
