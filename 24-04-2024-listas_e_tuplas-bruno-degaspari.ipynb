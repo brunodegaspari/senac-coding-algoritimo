{
 "cells": [
  {
   "cell_type": "code",
   "execution_count": null,
   "metadata": {},
   "outputs": [],
   "source": [
    "#listas vazias\n",
    "lista = []\n",
    "lista = list()"
   ]
  },
  {
   "cell_type": "code",
   "execution_count": 12,
   "metadata": {},
   "outputs": [
    {
     "data": {
      "text/plain": [
       "3"
      ]
     },
     "execution_count": 12,
     "metadata": {},
     "output_type": "execute_result"
    }
   ],
   "source": [
    "#lista com 3 elementos\n",
    "#index = posição da lista:\n",
    "#0 = primeira posição; 1 = segunda posição; 2 = terceira posição, etc...\n",
    "dias = [3, 1, 10]\n",
    "dias[0]"
   ]
  },
  {
   "cell_type": "code",
   "execution_count": 11,
   "metadata": {},
   "outputs": [
    {
     "data": {
      "text/plain": [
       "[7, 8, 9]"
      ]
     },
     "execution_count": 11,
     "metadata": {},
     "output_type": "execute_result"
    }
   ],
   "source": [
    "#modificando listas\n",
    "z = [3, 8, 9]\n",
    "z[0] = 7\n",
    "z"
   ]
  },
  {
   "cell_type": "code",
   "execution_count": 13,
   "metadata": {},
   "outputs": [
    {
     "name": "stdout",
     "output_type": "stream",
     "text": [
      "True\n",
      "True\n",
      "[5, 7, 5, 8, 9]\n",
      "[5, 7, 5, 8, 9]\n"
     ]
    }
   ],
   "source": [
    "V = [6, 7, 5, 8, 9]\n",
    "L = V\n",
    "print(V==L) #comparando o conteudo das listas\n",
    "print(V is L) #perguntando se V é igual a L\n",
    "V[0] = 5\n",
    "print(V)   \n",
    "print(L)"
   ]
  },
  {
   "cell_type": "code",
   "execution_count": 14,
   "metadata": {},
   "outputs": [
    {
     "name": "stdout",
     "output_type": "stream",
     "text": [
      "True\n",
      "False\n",
      "[81, 82, 83]\n",
      "[5, 82, 83]\n"
     ]
    }
   ],
   "source": [
    "#clonando listas\n",
    "a = [81, 82, 83]\n",
    "b = a[:]    #cria um clone da lista a, com o mesmo conteudo mas com um espaço na memoria diferente\n",
    "print(a == b)\n",
    "print(a is b)\n",
    "b[0] = 5\n",
    "print(a)\n",
    "print(b)"
   ]
  },
  {
   "cell_type": "code",
   "execution_count": 17,
   "metadata": {},
   "outputs": [
    {
     "name": "stdout",
     "output_type": "stream",
     "text": [
      "['b', 'c']\n",
      "['a', 'b', 'c', 'd']\n",
      "['d', 'e', 'f']\n",
      "['a', 'b', 'c', 'd', 'e', 'f']\n"
     ]
    }
   ],
   "source": [
    "#inclua o primeiro, exclua o ultimo\n",
    "#intervalo fechado\n",
    "\n",
    "lista = [\"a\", \"b\", \"c\", \"d\", \"e\", \"f\"]\n",
    "\n",
    "print(lista[1:3])\n",
    "print(lista[:4])\n",
    "print(lista[3:])\n",
    "print(lista[:])"
   ]
  },
  {
   "cell_type": "code",
   "execution_count": 2,
   "metadata": {},
   "outputs": [
    {
     "ename": "IndexError",
     "evalue": "list index out of range",
     "output_type": "error",
     "traceback": [
      "\u001b[1;31m---------------------------------------------------------------------------\u001b[0m",
      "\u001b[1;31mIndexError\u001b[0m                                Traceback (most recent call last)",
      "Cell \u001b[1;32mIn[2], line 6\u001b[0m\n\u001b[0;32m      4\u001b[0m b \u001b[38;5;241m=\u001b[39m a[:]\n\u001b[0;32m      5\u001b[0m b[\u001b[38;5;241m0\u001b[39m] \u001b[38;5;241m=\u001b[39m \u001b[38;5;241m5\u001b[39m\n\u001b[1;32m----> 6\u001b[0m \u001b[38;5;28mprint\u001b[39m(\u001b[43ma\u001b[49m\u001b[43m[\u001b[49m\u001b[38;5;241;43m3\u001b[39;49m\u001b[43m]\u001b[49m)\n\u001b[0;32m      8\u001b[0m \u001b[38;5;66;03m#o índice 3 não existe, então haverá um erro, já que o indíce acaba no 2\u001b[39;00m\n",
      "\u001b[1;31mIndexError\u001b[0m: list index out of range"
     ]
    }
   ],
   "source": [
    "#1 - o que será impresso na seguinte sequencia de comandos?\n",
    "\n",
    "a = [1, 2, 3]\n",
    "b = a[:]\n",
    "b[0] = 5\n",
    "print(a[3])\n",
    "\n",
    "#o índice 3 não existe, então haverá um erro, já que o indíce acaba no 2"
   ]
  },
  {
   "cell_type": "code",
   "execution_count": 34,
   "metadata": {},
   "outputs": [
    {
     "name": "stdout",
     "output_type": "stream",
     "text": [
      "[99, 76, 92.3, 'Cibele', True, 4, 76, 'pitomba', 76]\n",
      "Cibele\n"
     ]
    }
   ],
   "source": [
    "#2 - desafio\n",
    "\n",
    "minhaLista = [76, 92.3, \"oi\", True, 4, 76]\n",
    "minhaLista2 = minhaLista[:]\n",
    "minhaLista3 = [99]              #letra c\n",
    "minhaLista2 = [\"pitomba\", 76]   #letra a\n",
    "minhaLista[2] = \"Cibele\"        #letra b, letra e\n",
    "print (minhaLista3 + minhaLista + minhaLista2)\n",
    "print (minhaLista[2])           #letra d"
   ]
  },
  {
   "cell_type": "code",
   "execution_count": 35,
   "metadata": {},
   "outputs": [
    {
     "name": "stdout",
     "output_type": "stream",
     "text": [
      "[4, 2, 8, 6, 5, 'cibele']\n"
     ]
    }
   ],
   "source": [
    "#3 - oq eh impreso pelo trecho a seguir?\n",
    "\n",
    "lista1 = [4, 2, 8, 6, 5]\n",
    "lista1 = lista1 + [\"cibele\"]\n",
    "print(lista1)"
   ]
  },
  {
   "cell_type": "code",
   "execution_count": 37,
   "metadata": {},
   "outputs": [
    {
     "data": {
      "text/plain": [
       "('t', 'e', 's', 't', 'e')"
      ]
     },
     "execution_count": 37,
     "metadata": {},
     "output_type": "execute_result"
    }
   ],
   "source": [
    "#tuplas\n",
    "\n",
    "tupla_vazia = ()\n",
    "\n",
    "#função tuple\n",
    "\n",
    "novaTupla = tuple(\"teste\")\n",
    "novaTupla"
   ]
  },
  {
   "cell_type": "code",
   "execution_count": 40,
   "metadata": {},
   "outputs": [
    {
     "name": "stdout",
     "output_type": "stream",
     "text": [
      "2\n",
      "1\n",
      "1\n"
     ]
    }
   ],
   "source": [
    "tuplaNomes = (\"marlene\", \"zezin\", \"marlene\", \"cibele\", \"suely\")\n",
    "print(tuplaNomes.count(\"marlene\"))\n",
    "print(tuplaNomes.count(\"suely\"))\n",
    "print(tuplaNomes.count(\"zezin\"))"
   ]
  },
  {
   "cell_type": "code",
   "execution_count": 42,
   "metadata": {},
   "outputs": [
    {
     "name": "stdout",
     "output_type": "stream",
     "text": [
      "3\n"
     ]
    }
   ],
   "source": [
    "#praticar tuplas\n",
    "\n",
    "# 1 -\n",
    "\n",
    "tuplaNumeros = (1, 2, 2, 3, 4, 4, 4, 5)\n",
    "\n",
    "print(tuplaNumeros.count(4))"
   ]
  }
 ],
 "metadata": {
  "kernelspec": {
   "display_name": "Python 3",
   "language": "python",
   "name": "python3"
  },
  "language_info": {
   "codemirror_mode": {
    "name": "ipython",
    "version": 3
   },
   "file_extension": ".py",
   "mimetype": "text/x-python",
   "name": "python",
   "nbconvert_exporter": "python",
   "pygments_lexer": "ipython3",
   "version": "3.11.4"
  }
 },
 "nbformat": 4,
 "nbformat_minor": 2
}
