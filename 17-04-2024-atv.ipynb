{
 "cells": [
  {
   "cell_type": "code",
   "execution_count": 13,
   "metadata": {},
   "outputs": [
    {
     "name": "stdout",
     "output_type": "stream",
     "text": [
      "a taxa do carro é de:  0.2 %\n"
     ]
    }
   ],
   "source": [
    "# 1 \n",
    "\n",
    "anoCarro = int(input(\"qual o ano do seu carro? \"))\n",
    "preçoCarro = float(input(\"qual o preço do seu carro?\"))\n",
    "taxa1 = 0\n",
    "taxa2 = 0\n",
    "\n",
    "if anoCarro < 1990:\n",
    "    taxa1 = (1 / 100) * preçoCarro  \n",
    "    print(\"a taxa do carro é de: \" , taxa1 ,\"%\")\n",
    "else:\n",
    "    taxa2 = (1.5 / 100) * preçoCarro\n",
    "    print(\"a taxa do carro é de: \" , taxa2 ,\"%\")\n",
    "\n"
   ]
  },
  {
   "cell_type": "code",
   "execution_count": null,
   "metadata": {},
   "outputs": [],
   "source": [
    "# 2\n",
    "\n",
    "salarioAntigo = float(input(\"qual o seu salário?\")) \n",
    "cargo = (input(\"digite o seu cargo ou o seu código:\"))                                          \n",
    " \n",
    "if(cargo == \"Gerente\") or (cargo == \"gerente\") or (cargo == \"GERENTE\") or (cargo == \"101\"): \n",
    "    salarioNovo = (10/100 * salarioAntigo) + salarioAntigo\n",
    "elif(cargo == \"Engenheiro\") or (cargo == \"engenheiro\") or (cargo == \"ENGENHEIRO\") or (cargo == \"102\"): \n",
    "    salarioNovo = (20/100 * salarioAntigo) + salarioAntigo\n",
    "elif(cargo == \"Técnico\") or (cargo == \"técnico\") or (cargo == \"TÉCNICO\") or (cargo == \"TECNICO\") or (cargo == \"tecnico\") or (cargo == \"102\"): \n",
    "    salarioNovo = (30/100 * salarioAntigo) + salarioAntigo\n",
    "else:\n",
    "    salarioNovo = (40/100 * salarioAntigo) + salarioAntigo \n",
    " \n",
    "print(f\"seu salário antigo era:{salarioAntigo}, seu salário novo é:{salarioNovo}, e a diferença é:{salarioNovo - salarioAntigo}\")\n",
    "\n"
   ]
  },
  {
   "cell_type": "code",
   "execution_count": null,
   "metadata": {},
   "outputs": [],
   "source": []
  }
 ],
 "metadata": {
  "kernelspec": {
   "display_name": "Python 3",
   "language": "python",
   "name": "python3"
  },
  "language_info": {
   "codemirror_mode": {
    "name": "ipython",
    "version": 3
   },
   "file_extension": ".py",
   "mimetype": "text/x-python",
   "name": "python",
   "nbconvert_exporter": "python",
   "pygments_lexer": "ipython3",
   "version": "3.11.4"
  }
 },
 "nbformat": 4,
 "nbformat_minor": 2
}
